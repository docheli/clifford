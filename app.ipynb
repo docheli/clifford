{
 "cells": [
  {
   "cell_type": "code",
   "execution_count": 1,
   "metadata": {},
   "outputs": [],
   "source": [
    "import pandas as pd\n",
    "import geopandas as gpd\n",
    "import numpy as np\n",
    "import lonboard as lb\n",
    "import ipywidgets"
   ]
  },
  {
   "cell_type": "code",
   "execution_count": 2,
   "metadata": {},
   "outputs": [],
   "source": [
    "mesh = gpd.read_parquet('./prepro/mesh_w_inf.parquet').to_crs(epsg=4326)\n",
    "hosp = gpd.read_parquet('./prepro/hosp.parquet').to_crs(epsg=4326)\n",
    "pref = gpd.read_parquet('./prepro/jp_by_pref.parquet').to_crs(epsg=4326)\n",
    "lgov = gpd.read_parquet('./prepro/jpn.parquet').to_crs(epsg=4326)"
   ]
  },
  {
   "cell_type": "code",
   "execution_count": 3,
   "metadata": {},
   "outputs": [],
   "source": [
    "pref_layer = lb.PolygonLayer.from_geopandas(\n",
    "    pref,\n",
    "    filled=False,\n",
    "    get_line_width=500,\n",
    "    line_width_max_pixels=2.5,\n",
    "    line_width_min_pixels=0.25\n",
    ")"
   ]
  },
  {
   "cell_type": "code",
   "execution_count": 4,
   "metadata": {},
   "outputs": [],
   "source": [
    "lgov_layer = lb.PolygonLayer.from_geopandas(\n",
    "    lgov,\n",
    "    get_fill_color=[0,0,0,0],\n",
    "    get_line_width=250,\n",
    "    get_line_color='navy',\n",
    "    line_width_max_pixels=1,\n",
    "    line_width_min_pixels=0.05,\n",
    "    pickable=True\n",
    ")"
   ]
  },
  {
   "cell_type": "code",
   "execution_count": 5,
   "metadata": {},
   "outputs": [],
   "source": [
    "hosp_layer = lb.ScatterplotLayer.from_geopandas(\n",
    "    hosp,\n",
    "    opacity=0.3,\n",
    "    get_radius = 7000,\n",
    "    get_fill_color = 'royalblue'\n",
    ")"
   ]
  },
  {
   "cell_type": "code",
   "execution_count": 6,
   "metadata": {},
   "outputs": [],
   "source": [
    "buf50 = gpd.GeoDataFrame(geometry=hosp[hosp['DH']].to_crs(epsg=6690).buffer(50000)).to_crs(epsg=4326)\n",
    "buf50_layer = lb.PolygonLayer.from_geopandas(\n",
    "    # buf[hosp.DH],\n",
    "    buf50,\n",
    "    opacity = 0.0005,\n",
    "    get_fill_color = 'blue',\n",
    "    get_line_color = 'blue',\n",
    "    pickable = False,\n",
    "    get_line_width=2000\n",
    ")"
   ]
  },
  {
   "cell_type": "code",
   "execution_count": 7,
   "metadata": {},
   "outputs": [],
   "source": [
    "buf75 = gpd.GeoDataFrame(geometry=hosp[hosp['DH']].to_crs(epsg=6690).buffer(75000)).to_crs(epsg=4326)\n",
    "buf75_layer = lb.PolygonLayer.from_geopandas(\n",
    "    # buf[hosp.DH],\n",
    "    buf75,\n",
    "    opacity = 0.005,\n",
    "    get_fill_color = 'green',\n",
    "    get_line_color = 'green',\n",
    "    pickable = False,\n",
    "    get_line_width=2000\n",
    ")"
   ]
  },
  {
   "cell_type": "code",
   "execution_count": 8,
   "metadata": {},
   "outputs": [],
   "source": [
    "map_wgt = lb.Map(layers=[lgov_layer, hosp_layer, buf50_layer, pref_layer], _height=600)"
   ]
  },
  {
   "cell_type": "code",
   "execution_count": 9,
   "metadata": {},
   "outputs": [
    {
     "data": {
      "application/vnd.jupyter.widget-view+json": {
       "model_id": "d6a164aa79924cb9a8588c9edc6619a7",
       "version_major": 2,
       "version_minor": 1
      },
      "text/plain": [
       "Map(layers=[PolygonLayer(get_fill_color=[0, 0, 0, 0], get_line_color=(0, 0, 128, 255), get_line_width=250.0, l…"
      ]
     },
     "execution_count": 9,
     "metadata": {},
     "output_type": "execute_result"
    }
   ],
   "source": [
    "map_wgt"
   ]
  },
  {
   "cell_type": "code",
   "execution_count": null,
   "metadata": {},
   "outputs": [],
   "source": []
  }
 ],
 "metadata": {
  "kernelspec": {
   "display_name": "test311",
   "language": "python",
   "name": "python3"
  },
  "language_info": {
   "codemirror_mode": {
    "name": "ipython",
    "version": 3
   },
   "file_extension": ".py",
   "mimetype": "text/x-python",
   "name": "python",
   "nbconvert_exporter": "python",
   "pygments_lexer": "ipython3",
   "version": "3.11.8"
  }
 },
 "nbformat": 4,
 "nbformat_minor": 2
}
